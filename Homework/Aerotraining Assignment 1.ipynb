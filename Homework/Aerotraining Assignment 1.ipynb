{
 "cells": [
  {
   "cell_type": "code",
   "execution_count": 5,
   "metadata": {},
   "outputs": [
    {
     "name": "stdout",
     "output_type": "stream",
     "text": [
      "M. Faza Abel J. M., NIM 13620015\n"
     ]
    }
   ],
   "source": [
    "print(\"M. Faza Abel J. M., NIM 13620015\")"
   ]
  },
  {
   "cell_type": "code",
   "execution_count": 4,
   "metadata": {},
   "outputs": [
    {
     "name": "stdout",
     "output_type": "stream",
     "text": [
      "No. 1 Write a short program that prints each number from 1 to 100 on a new line. For each multiple of 3, print Fizz instead of the number. For each multiple of 5, print Buzz instead of the number. For numbers which are multiples of both 3 and 5, print FizzBuzz instead of the number.\n"
     ]
    }
   ],
   "source": [
    "print(\"No. 1 Write a short program that prints each number from 1 to 100 on a new line. For each multiple of 3, print Fizz instead of the number. For each multiple of 5, print Buzz instead of the number. For numbers which are multiples of both 3 and 5, print FizzBuzz instead of the number.\")"
   ]
  },
  {
   "cell_type": "code",
   "execution_count": 5,
   "metadata": {},
   "outputs": [
    {
     "name": "stdout",
     "output_type": "stream",
     "text": [
      "1\n",
      "2\n",
      "Fizz\n",
      "4\n",
      "Buzz\n",
      "Fizz\n",
      "7\n",
      "8\n",
      "Fizz\n",
      "Buzz\n",
      "11\n",
      "Fizz\n",
      "13\n",
      "14\n",
      "FizzBuzz\n",
      "16\n",
      "17\n",
      "Fizz\n",
      "19\n",
      "Buzz\n",
      "Fizz\n",
      "22\n",
      "23\n",
      "Fizz\n",
      "Buzz\n",
      "26\n",
      "Fizz\n",
      "28\n",
      "29\n",
      "FizzBuzz\n",
      "31\n",
      "32\n",
      "Fizz\n",
      "34\n",
      "Buzz\n",
      "Fizz\n",
      "37\n",
      "38\n",
      "Fizz\n",
      "Buzz\n",
      "41\n",
      "Fizz\n",
      "43\n",
      "44\n",
      "FizzBuzz\n",
      "46\n",
      "47\n",
      "Fizz\n",
      "49\n",
      "Buzz\n",
      "Fizz\n",
      "52\n",
      "53\n",
      "Fizz\n",
      "Buzz\n",
      "56\n",
      "Fizz\n",
      "58\n",
      "59\n",
      "FizzBuzz\n",
      "61\n",
      "62\n",
      "Fizz\n",
      "64\n",
      "Buzz\n",
      "Fizz\n",
      "67\n",
      "68\n",
      "Fizz\n",
      "Buzz\n",
      "71\n",
      "Fizz\n",
      "73\n",
      "74\n",
      "FizzBuzz\n",
      "76\n",
      "77\n",
      "Fizz\n",
      "79\n",
      "Buzz\n",
      "Fizz\n",
      "82\n",
      "83\n",
      "Fizz\n",
      "Buzz\n",
      "86\n",
      "Fizz\n",
      "88\n",
      "89\n",
      "FizzBuzz\n",
      "91\n",
      "92\n",
      "Fizz\n",
      "94\n",
      "Buzz\n",
      "Fizz\n",
      "97\n",
      "98\n",
      "Fizz\n",
      "Buzz\n"
     ]
    }
   ],
   "source": [
    "i=1\n",
    "while i <= 100:\n",
    "    if i%3==0:\n",
    "        print(\"Fizz\", end=\"\")\n",
    "        if i%5==0:\n",
    "            print(\"Buzz\", end=\"\")\n",
    "    elif i%5==0:\n",
    "        print(\"Buzz\", end=\"\")\n",
    "    else:\n",
    "        print(i, end=\"\")\n",
    "    print()\n",
    "    i+=1"
   ]
  },
  {
   "cell_type": "markdown",
   "metadata": {},
   "source": [
    "The program above uses \"while\" loop that will continue to loop as long as a specific criteria has not been met. The next algorithm runs if a number is a multiple of three - if yes then it will print \"Fizz\", if it is a multiple of five, it will print \"Buzz\" instead. If a number is both a multiple of three and five, it will print \"FizzBuzz\". If none of the criterions are met - it will only print the number."
   ]
  },
  {
   "cell_type": "code",
   "execution_count": 3,
   "metadata": {
    "scrolled": true
   },
   "outputs": [
    {
     "name": "stdout",
     "output_type": "stream",
     "text": [
      "No.2 Store input from the user in a variable called s, determine if it is a palindrome, considering only alphanumeric characters and ignoring cases.\n"
     ]
    }
   ],
   "source": [
    "print(\"No.2 Store input from the user in a variable called s, determine if it is a palindrome, considering only alphanumeric characters and ignoring cases.\")"
   ]
  },
  {
   "cell_type": "code",
   "execution_count": 2,
   "metadata": {},
   "outputs": [
    {
     "name": "stdout",
     "output_type": "stream",
     "text": [
      "Enter the word you want.awan\n",
      "Nope, it is not a palindrome.\n"
     ]
    }
   ],
   "source": [
    "s = input(\"Enter the word you want.\")\n",
    "\n",
    "def PalindromeChecker(s):\n",
    "    return s == s[::-1]\n",
    "\n",
    "answer = PalindromeChecker(s)\n",
    "\n",
    "if answer:\n",
    "    print(\"Yes, it is a palindrome.\")\n",
    "else:\n",
    "    print(\"Nope, it is not a palindrome.\")"
   ]
  },
  {
   "cell_type": "markdown",
   "metadata": {},
   "source": [
    "The algorithm starts with a word input that is to be checked whether it is a palindrome or not. It then reverses the string, and if the string stays the same even after it is reversed, it will print as \"yes\" - if not it will print as \"nope\"."
   ]
  }
 ],
 "metadata": {
  "kernelspec": {
   "display_name": "Python 3",
   "language": "python",
   "name": "python3"
  }
 },
 "nbformat": 4,
 "nbformat_minor": 4
}
