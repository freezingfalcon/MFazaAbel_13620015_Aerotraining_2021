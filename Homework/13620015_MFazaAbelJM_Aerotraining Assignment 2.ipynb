{
 "cells": [
  {
   "cell_type": "markdown",
   "metadata": {},
   "source": [
    "Muhammad Faza Abel Jonggara Marpaung\n",
    "NIM 13620015\n",
    "Teknik Dirgantara ITB 2020"
   ]
  },
  {
   "cell_type": "markdown",
   "metadata": {},
   "source": [
    "Number 1:"
   ]
  },
  {
   "cell_type": "code",
   "execution_count": 16,
   "metadata": {},
   "outputs": [
    {
     "name": "stdout",
     "output_type": "stream",
     "text": [
      "588.0\n"
     ]
    }
   ],
   "source": [
    "class Lift:\n",
    "    def __init__(properties, rho, V, Cl, S):\n",
    "        properties.rho = rho\n",
    "        properties.V = V\n",
    "        properties.Cl = Cl\n",
    "        properties.S = S\n",
    "        \n",
    "    def calculate(properties):\n",
    "        return 0.5 * properties.rho * (properties.V^2) * properties.Cl * properties.S\n"
   ]
  },
  {
   "cell_type": "markdown",
   "metadata": {},
   "source": [
    "Number Two:"
   ]
  },
  {
   "cell_type": "code",
   "execution_count": 21,
   "metadata": {},
   "outputs": [
    {
     "name": "stdout",
     "output_type": "stream",
     "text": [
      "Masukkan rho5\n",
      "Masukkan V6\n",
      "Masukkan Cl7\n",
      "Masukkan S8\n",
      "588.0\n"
     ]
    }
   ],
   "source": [
    "LiftCalculatorInator = Lift(4,5,6,7)\n",
    "\n",
    "rho = int(input(\"Masukkan rho\"))\n",
    "V = int(input(\"Masukkan V\"))\n",
    "Cl = int(input(\"Masukkan Cl\"))\n",
    "S = int(input(\"Masukkan S\"))\n",
    "\n",
    "print(LiftCalculatorInator.calculate())\n"
   ]
  },
  {
   "cell_type": "code",
   "execution_count": 2,
   "metadata": {},
   "outputs": [
    {
     "ename": "SyntaxError",
     "evalue": "invalid syntax (<ipython-input-2-6bf7b53772d9>, line 1)",
     "output_type": "error",
     "traceback": [
      "\u001b[1;36m  File \u001b[1;32m\"<ipython-input-2-6bf7b53772d9>\"\u001b[1;36m, line \u001b[1;32m1\u001b[0m\n\u001b[1;33m    git init\u001b[0m\n\u001b[1;37m        ^\u001b[0m\n\u001b[1;31mSyntaxError\u001b[0m\u001b[1;31m:\u001b[0m invalid syntax\n"
     ]
    }
   ],
   "source": []
  },
  {
   "cell_type": "code",
   "execution_count": null,
   "metadata": {},
   "outputs": [],
   "source": []
  }
 ],
 "metadata": {
  "kernelspec": {
   "display_name": "Python 3",
   "language": "python",
   "name": "python3"
  },
  "language_info": {
   "codemirror_mode": {
    "name": "ipython",
    "version": 3
   },
   "file_extension": ".py",
   "mimetype": "text/x-python",
   "name": "python",
   "nbconvert_exporter": "python",
   "pygments_lexer": "ipython3",
   "version": "3.8.3"
  }
 },
 "nbformat": 4,
 "nbformat_minor": 4
}
